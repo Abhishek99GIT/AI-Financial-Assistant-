{
 "cells": [
  {
   "cell_type": "code",
   "execution_count": 8,
   "id": "d9890a85",
   "metadata": {},
   "outputs": [
    {
     "name": "stdout",
     "output_type": "stream",
     "text": [
      "Requirement already satisfied: transformers in c:\\users\\abhishekkollojuv-sof\\abhishek programs\\project-11\\venv\\lib\\site-packages (4.52.3)\n",
      "Requirement already satisfied: torch in c:\\users\\abhishekkollojuv-sof\\abhishek programs\\project-11\\venv\\lib\\site-packages (2.7.0)\n",
      "Collecting optimum\n",
      "  Downloading optimum-1.25.3-py3-none-any.whl.metadata (16 kB)\n",
      "Requirement already satisfied: filelock in c:\\users\\abhishekkollojuv-sof\\abhishek programs\\project-11\\venv\\lib\\site-packages (from transformers) (3.18.0)\n",
      "Requirement already satisfied: huggingface-hub<1.0,>=0.30.0 in c:\\users\\abhishekkollojuv-sof\\abhishek programs\\project-11\\venv\\lib\\site-packages (from transformers) (0.32.0)\n",
      "Requirement already satisfied: numpy>=1.17 in c:\\users\\abhishekkollojuv-sof\\abhishek programs\\project-11\\venv\\lib\\site-packages (from transformers) (2.2.6)\n",
      "Requirement already satisfied: packaging>=20.0 in c:\\users\\abhishekkollojuv-sof\\abhishek programs\\project-11\\venv\\lib\\site-packages (from transformers) (24.2)\n",
      "Requirement already satisfied: pyyaml>=5.1 in c:\\users\\abhishekkollojuv-sof\\abhishek programs\\project-11\\venv\\lib\\site-packages (from transformers) (6.0.2)\n",
      "Requirement already satisfied: regex!=2019.12.17 in c:\\users\\abhishekkollojuv-sof\\abhishek programs\\project-11\\venv\\lib\\site-packages (from transformers) (2024.11.6)\n",
      "Requirement already satisfied: requests in c:\\users\\abhishekkollojuv-sof\\abhishek programs\\project-11\\venv\\lib\\site-packages (from transformers) (2.32.3)\n",
      "Requirement already satisfied: tokenizers<0.22,>=0.21 in c:\\users\\abhishekkollojuv-sof\\abhishek programs\\project-11\\venv\\lib\\site-packages (from transformers) (0.21.1)\n",
      "Requirement already satisfied: safetensors>=0.4.3 in c:\\users\\abhishekkollojuv-sof\\abhishek programs\\project-11\\venv\\lib\\site-packages (from transformers) (0.5.3)\n",
      "Requirement already satisfied: tqdm>=4.27 in c:\\users\\abhishekkollojuv-sof\\abhishek programs\\project-11\\venv\\lib\\site-packages (from transformers) (4.67.1)\n",
      "Requirement already satisfied: fsspec>=2023.5.0 in c:\\users\\abhishekkollojuv-sof\\abhishek programs\\project-11\\venv\\lib\\site-packages (from huggingface-hub<1.0,>=0.30.0->transformers) (2023.10.0)\n",
      "Requirement already satisfied: typing-extensions>=3.7.4.3 in c:\\users\\abhishekkollojuv-sof\\abhishek programs\\project-11\\venv\\lib\\site-packages (from huggingface-hub<1.0,>=0.30.0->transformers) (4.13.2)\n",
      "Requirement already satisfied: sympy>=1.13.3 in c:\\users\\abhishekkollojuv-sof\\abhishek programs\\project-11\\venv\\lib\\site-packages (from torch) (1.14.0)\n",
      "Requirement already satisfied: networkx in c:\\users\\abhishekkollojuv-sof\\abhishek programs\\project-11\\venv\\lib\\site-packages (from torch) (3.4.2)\n",
      "Requirement already satisfied: jinja2 in c:\\users\\abhishekkollojuv-sof\\abhishek programs\\project-11\\venv\\lib\\site-packages (from torch) (3.1.6)\n",
      "Requirement already satisfied: setuptools in c:\\users\\abhishekkollojuv-sof\\abhishek programs\\project-11\\venv\\lib\\site-packages (from torch) (69.5.1)\n",
      "Requirement already satisfied: mpmath<1.4,>=1.1.0 in c:\\users\\abhishekkollojuv-sof\\abhishek programs\\project-11\\venv\\lib\\site-packages (from sympy>=1.13.3->torch) (1.3.0)\n",
      "Requirement already satisfied: colorama in c:\\users\\abhishekkollojuv-sof\\abhishek programs\\project-11\\venv\\lib\\site-packages (from tqdm>=4.27->transformers) (0.4.6)\n",
      "Requirement already satisfied: MarkupSafe>=2.0 in c:\\users\\abhishekkollojuv-sof\\abhishek programs\\project-11\\venv\\lib\\site-packages (from jinja2->torch) (3.0.2)\n",
      "Requirement already satisfied: charset-normalizer<4,>=2 in c:\\users\\abhishekkollojuv-sof\\abhishek programs\\project-11\\venv\\lib\\site-packages (from requests->transformers) (3.4.2)\n",
      "Requirement already satisfied: idna<4,>=2.5 in c:\\users\\abhishekkollojuv-sof\\abhishek programs\\project-11\\venv\\lib\\site-packages (from requests->transformers) (3.10)\n",
      "Requirement already satisfied: urllib3<3,>=1.21.1 in c:\\users\\abhishekkollojuv-sof\\abhishek programs\\project-11\\venv\\lib\\site-packages (from requests->transformers) (2.4.0)\n",
      "Requirement already satisfied: certifi>=2017.4.17 in c:\\users\\abhishekkollojuv-sof\\abhishek programs\\project-11\\venv\\lib\\site-packages (from requests->transformers) (2025.4.26)\n",
      "Downloading optimum-1.25.3-py3-none-any.whl (429 kB)\n",
      "Installing collected packages: optimum\n",
      "Successfully installed optimum-1.25.3\n",
      "Note: you may need to restart the kernel to use updated packages.\n"
     ]
    }
   ],
   "source": [
    "pip install transformers torch optimum"
   ]
  },
  {
   "cell_type": "code",
   "execution_count": 9,
   "id": "02303083",
   "metadata": {},
   "outputs": [
    {
     "name": "stderr",
     "output_type": "stream",
     "text": [
      "c:\\Users\\AbhishekKollojuV-Sof\\Abhishek Programs\\Project-11\\venv\\Lib\\site-packages\\huggingface_hub\\file_download.py:143: UserWarning: `huggingface_hub` cache-system uses symlinks by default to efficiently store duplicated files but your machine does not support them in C:\\Users\\AbhishekKollojuV-Sof\\.cache\\huggingface\\hub\\models--distilgpt2. Caching files will still work but in a degraded version that might require more space on your disk. This warning can be disabled by setting the `HF_HUB_DISABLE_SYMLINKS_WARNING` environment variable. For more details, see https://huggingface.co/docs/huggingface_hub/how-to-cache#limitations.\n",
      "To support symlinks on Windows, you either need to activate Developer Mode or to run Python as an administrator. In order to activate developer mode, see this article: https://docs.microsoft.com/en-us/windows/apps/get-started/enable-your-device-for-development\n",
      "  warnings.warn(message)\n"
     ]
    },
    {
     "name": "stdout",
     "output_type": "stream",
     "text": [
      "Original model size: 317.07 MB\n",
      "Dtype before float16 conversion: torch.float32\n",
      "Dtype after float16 conversion: torch.float16\n",
      "Float16 model size: 160.83 MB\n"
     ]
    }
   ],
   "source": [
    "import torch\n",
    "from transformers import AutoModelForCausalLM, AutoTokenizer\n",
    "import os\n",
    "import shutil\n",
    " \n",
    "model_name = \"distilgpt2\"\n",
    " \n",
    "# Load model and tokenizer\n",
    "model = AutoModelForCausalLM.from_pretrained(model_name)\n",
    "tokenizer = AutoTokenizer.from_pretrained(model_name)\n",
    " \n",
    "orig_dir = \"./distilgpt2_original\"\n",
    "float16_dir = \"./distilgpt2_float16\"\n",
    " \n",
    "# Clean up folders if they exist\n",
    "if os.path.exists(orig_dir):\n",
    "    shutil.rmtree(orig_dir)\n",
    "if os.path.exists(float16_dir):\n",
    "    shutil.rmtree(float16_dir)\n",
    " \n",
    "# Save original model and tokenizer\n",
    "model.save_pretrained(orig_dir)\n",
    "tokenizer.save_pretrained(orig_dir)\n",
    " \n",
    "def get_size(path):\n",
    "    total_size = 0\n",
    "    for dirpath, _, filenames in os.walk(path):\n",
    "        for f in filenames:\n",
    "            fp = os.path.join(dirpath, f)\n",
    "            total_size += os.path.getsize(fp)\n",
    "    return total_size / (1024 * 1024)  # MB\n",
    " \n",
    "print(f\"Original model size: {get_size(orig_dir):.2f} MB\")\n",
    " \n",
    "# Print dtype of the first model parameter before conversion\n",
    "print(\"Dtype before float16 conversion:\", next(model.parameters()).dtype)\n",
    " \n",
    "# Convert model weights to float16\n",
    "model.half()\n",
    " \n",
    "# Print dtype after conversion\n",
    "print(\"Dtype after float16 conversion:\", next(model.parameters()).dtype)\n",
    " \n",
    "# Save float16 model weights and tokenizer\n",
    "model.save_pretrained(float16_dir)\n",
    "tokenizer.save_pretrained(float16_dir)\n",
    " \n",
    "print(f\"Float16 model size: {get_size(float16_dir):.2f} MB\")\n",
    " "
   ]
  },
  {
   "cell_type": "code",
   "execution_count": null,
   "id": "a3d81c1f",
   "metadata": {},
   "outputs": [],
   "source": []
  }
 ],
 "metadata": {
  "kernelspec": {
   "display_name": "venv",
   "language": "python",
   "name": "python3"
  },
  "language_info": {
   "codemirror_mode": {
    "name": "ipython",
    "version": 3
   },
   "file_extension": ".py",
   "mimetype": "text/x-python",
   "name": "python",
   "nbconvert_exporter": "python",
   "pygments_lexer": "ipython3",
   "version": "3.13.3"
  }
 },
 "nbformat": 4,
 "nbformat_minor": 5
}
